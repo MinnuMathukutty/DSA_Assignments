{
 "cells": [
  {
   "cell_type": "code",
   "execution_count": 1,
   "id": "ec6185fd",
   "metadata": {},
   "outputs": [],
   "source": [
    "import pandas as pd\n",
    "import numpy as np\n",
    "import scipy.stats as stats\n",
    "import matplotlib.pyplot as plt\n",
    "import seaborn as sns"
   ]
  },
  {
   "cell_type": "markdown",
   "id": "765600b6",
   "metadata": {},
   "source": [
    "# 1. Read the dataset to the python environment "
   ]
  },
  {
   "cell_type": "code",
   "execution_count": 2,
   "id": "da1b6d87",
   "metadata": {},
   "outputs": [
    {
     "data": {
      "text/html": [
       "<div>\n",
       "<style scoped>\n",
       "    .dataframe tbody tr th:only-of-type {\n",
       "        vertical-align: middle;\n",
       "    }\n",
       "\n",
       "    .dataframe tbody tr th {\n",
       "        vertical-align: top;\n",
       "    }\n",
       "\n",
       "    .dataframe thead th {\n",
       "        text-align: right;\n",
       "    }\n",
       "</style>\n",
       "<table border=\"1\" class=\"dataframe\">\n",
       "  <thead>\n",
       "    <tr style=\"text-align: right;\">\n",
       "      <th></th>\n",
       "      <th>SL</th>\n",
       "      <th>SW</th>\n",
       "      <th>PL</th>\n",
       "      <th>PW</th>\n",
       "      <th>Classification</th>\n",
       "    </tr>\n",
       "  </thead>\n",
       "  <tbody>\n",
       "    <tr>\n",
       "      <th>0</th>\n",
       "      <td>5.1</td>\n",
       "      <td>3.5</td>\n",
       "      <td>1.4</td>\n",
       "      <td>0.2</td>\n",
       "      <td>Iris-setosa</td>\n",
       "    </tr>\n",
       "    <tr>\n",
       "      <th>1</th>\n",
       "      <td>4.9</td>\n",
       "      <td>3.0</td>\n",
       "      <td>1.4</td>\n",
       "      <td>0.2</td>\n",
       "      <td>Iris-setosa</td>\n",
       "    </tr>\n",
       "    <tr>\n",
       "      <th>2</th>\n",
       "      <td>NaN</td>\n",
       "      <td>3.2</td>\n",
       "      <td>1.3</td>\n",
       "      <td>0.2</td>\n",
       "      <td>Iris-setosa</td>\n",
       "    </tr>\n",
       "    <tr>\n",
       "      <th>3</th>\n",
       "      <td>4.6</td>\n",
       "      <td>3.1</td>\n",
       "      <td>1.5</td>\n",
       "      <td>0.2</td>\n",
       "      <td>Iris-setosa</td>\n",
       "    </tr>\n",
       "    <tr>\n",
       "      <th>4</th>\n",
       "      <td>5.0</td>\n",
       "      <td>3.6</td>\n",
       "      <td>1.4</td>\n",
       "      <td>0.2</td>\n",
       "      <td>Iris-setosa</td>\n",
       "    </tr>\n",
       "  </tbody>\n",
       "</table>\n",
       "</div>"
      ],
      "text/plain": [
       "    SL   SW   PL   PW Classification\n",
       "0  5.1  3.5  1.4  0.2    Iris-setosa\n",
       "1  4.9  3.0  1.4  0.2    Iris-setosa\n",
       "2  NaN  3.2  1.3  0.2    Iris-setosa\n",
       "3  4.6  3.1  1.5  0.2    Iris-setosa\n",
       "4  5.0  3.6  1.4  0.2    Iris-setosa"
      ]
     },
     "execution_count": 2,
     "metadata": {},
     "output_type": "execute_result"
    }
   ],
   "source": [
    "data = pd.read_excel('iris.xls')\n",
    "data.head()"
   ]
  },
  {
   "cell_type": "markdown",
   "id": "7a0b404a",
   "metadata": {},
   "source": [
    "# 2. Do necessary pre-processing steps.\n"
   ]
  },
  {
   "cell_type": "code",
   "execution_count": 3,
   "id": "1b2c19eb",
   "metadata": {},
   "outputs": [
    {
     "name": "stdout",
     "output_type": "stream",
     "text": [
      "<class 'pandas.core.frame.DataFrame'>\n",
      "RangeIndex: 150 entries, 0 to 149\n",
      "Data columns (total 5 columns):\n",
      " #   Column          Non-Null Count  Dtype  \n",
      "---  ------          --------------  -----  \n",
      " 0   SL              143 non-null    float64\n",
      " 1   SW              144 non-null    float64\n",
      " 2   PL              144 non-null    float64\n",
      " 3   PW              150 non-null    float64\n",
      " 4   Classification  150 non-null    object \n",
      "dtypes: float64(4), object(1)\n",
      "memory usage: 6.0+ KB\n"
     ]
    }
   ],
   "source": [
    "data.info()"
   ]
  },
  {
   "cell_type": "code",
   "execution_count": 4,
   "id": "5f32ba87",
   "metadata": {},
   "outputs": [
    {
     "data": {
      "text/plain": [
       "SL                7\n",
       "SW                6\n",
       "PL                6\n",
       "PW                0\n",
       "Classification    0\n",
       "dtype: int64"
      ]
     },
     "execution_count": 4,
     "metadata": {},
     "output_type": "execute_result"
    }
   ],
   "source": [
    "data.isna().sum()"
   ]
  },
  {
   "cell_type": "markdown",
   "id": "1a8424b3",
   "metadata": {},
   "source": [
    "There are null values in SL,SW,PL columns"
   ]
  },
  {
   "cell_type": "code",
   "execution_count": 5,
   "id": "eb7c53a7",
   "metadata": {},
   "outputs": [
    {
     "data": {
      "text/html": [
       "<div>\n",
       "<style scoped>\n",
       "    .dataframe tbody tr th:only-of-type {\n",
       "        vertical-align: middle;\n",
       "    }\n",
       "\n",
       "    .dataframe tbody tr th {\n",
       "        vertical-align: top;\n",
       "    }\n",
       "\n",
       "    .dataframe thead th {\n",
       "        text-align: right;\n",
       "    }\n",
       "</style>\n",
       "<table border=\"1\" class=\"dataframe\">\n",
       "  <thead>\n",
       "    <tr style=\"text-align: right;\">\n",
       "      <th></th>\n",
       "      <th>SL</th>\n",
       "      <th>SW</th>\n",
       "      <th>PL</th>\n",
       "      <th>PW</th>\n",
       "    </tr>\n",
       "  </thead>\n",
       "  <tbody>\n",
       "    <tr>\n",
       "      <th>count</th>\n",
       "      <td>143.000000</td>\n",
       "      <td>144.000000</td>\n",
       "      <td>144.000000</td>\n",
       "      <td>150.000000</td>\n",
       "    </tr>\n",
       "    <tr>\n",
       "      <th>mean</th>\n",
       "      <td>5.855944</td>\n",
       "      <td>3.049306</td>\n",
       "      <td>3.756250</td>\n",
       "      <td>1.198667</td>\n",
       "    </tr>\n",
       "    <tr>\n",
       "      <th>std</th>\n",
       "      <td>0.828168</td>\n",
       "      <td>0.430644</td>\n",
       "      <td>1.761306</td>\n",
       "      <td>0.763161</td>\n",
       "    </tr>\n",
       "    <tr>\n",
       "      <th>min</th>\n",
       "      <td>4.300000</td>\n",
       "      <td>2.000000</td>\n",
       "      <td>1.000000</td>\n",
       "      <td>0.100000</td>\n",
       "    </tr>\n",
       "    <tr>\n",
       "      <th>25%</th>\n",
       "      <td>5.100000</td>\n",
       "      <td>2.800000</td>\n",
       "      <td>1.600000</td>\n",
       "      <td>0.300000</td>\n",
       "    </tr>\n",
       "    <tr>\n",
       "      <th>50%</th>\n",
       "      <td>5.800000</td>\n",
       "      <td>3.000000</td>\n",
       "      <td>4.350000</td>\n",
       "      <td>1.300000</td>\n",
       "    </tr>\n",
       "    <tr>\n",
       "      <th>75%</th>\n",
       "      <td>6.400000</td>\n",
       "      <td>3.300000</td>\n",
       "      <td>5.100000</td>\n",
       "      <td>1.800000</td>\n",
       "    </tr>\n",
       "    <tr>\n",
       "      <th>max</th>\n",
       "      <td>7.900000</td>\n",
       "      <td>4.400000</td>\n",
       "      <td>6.900000</td>\n",
       "      <td>2.500000</td>\n",
       "    </tr>\n",
       "  </tbody>\n",
       "</table>\n",
       "</div>"
      ],
      "text/plain": [
       "               SL          SW          PL          PW\n",
       "count  143.000000  144.000000  144.000000  150.000000\n",
       "mean     5.855944    3.049306    3.756250    1.198667\n",
       "std      0.828168    0.430644    1.761306    0.763161\n",
       "min      4.300000    2.000000    1.000000    0.100000\n",
       "25%      5.100000    2.800000    1.600000    0.300000\n",
       "50%      5.800000    3.000000    4.350000    1.300000\n",
       "75%      6.400000    3.300000    5.100000    1.800000\n",
       "max      7.900000    4.400000    6.900000    2.500000"
      ]
     },
     "execution_count": 5,
     "metadata": {},
     "output_type": "execute_result"
    }
   ],
   "source": [
    "data.describe()"
   ]
  },
  {
   "cell_type": "code",
   "execution_count": 6,
   "id": "34485ef6",
   "metadata": {},
   "outputs": [
    {
     "data": {
      "text/html": [
       "<div>\n",
       "<style scoped>\n",
       "    .dataframe tbody tr th:only-of-type {\n",
       "        vertical-align: middle;\n",
       "    }\n",
       "\n",
       "    .dataframe tbody tr th {\n",
       "        vertical-align: top;\n",
       "    }\n",
       "\n",
       "    .dataframe thead th {\n",
       "        text-align: right;\n",
       "    }\n",
       "</style>\n",
       "<table border=\"1\" class=\"dataframe\">\n",
       "  <thead>\n",
       "    <tr style=\"text-align: right;\">\n",
       "      <th></th>\n",
       "      <th>SL</th>\n",
       "      <th>SW</th>\n",
       "      <th>PL</th>\n",
       "      <th>PW</th>\n",
       "      <th>Classification</th>\n",
       "    </tr>\n",
       "  </thead>\n",
       "  <tbody>\n",
       "    <tr>\n",
       "      <th>count</th>\n",
       "      <td>143.000000</td>\n",
       "      <td>144.000000</td>\n",
       "      <td>144.000000</td>\n",
       "      <td>150.000000</td>\n",
       "      <td>150</td>\n",
       "    </tr>\n",
       "    <tr>\n",
       "      <th>unique</th>\n",
       "      <td>NaN</td>\n",
       "      <td>NaN</td>\n",
       "      <td>NaN</td>\n",
       "      <td>NaN</td>\n",
       "      <td>3</td>\n",
       "    </tr>\n",
       "    <tr>\n",
       "      <th>top</th>\n",
       "      <td>NaN</td>\n",
       "      <td>NaN</td>\n",
       "      <td>NaN</td>\n",
       "      <td>NaN</td>\n",
       "      <td>Iris-virginica</td>\n",
       "    </tr>\n",
       "    <tr>\n",
       "      <th>freq</th>\n",
       "      <td>NaN</td>\n",
       "      <td>NaN</td>\n",
       "      <td>NaN</td>\n",
       "      <td>NaN</td>\n",
       "      <td>50</td>\n",
       "    </tr>\n",
       "    <tr>\n",
       "      <th>mean</th>\n",
       "      <td>5.855944</td>\n",
       "      <td>3.049306</td>\n",
       "      <td>3.756250</td>\n",
       "      <td>1.198667</td>\n",
       "      <td>NaN</td>\n",
       "    </tr>\n",
       "    <tr>\n",
       "      <th>std</th>\n",
       "      <td>0.828168</td>\n",
       "      <td>0.430644</td>\n",
       "      <td>1.761306</td>\n",
       "      <td>0.763161</td>\n",
       "      <td>NaN</td>\n",
       "    </tr>\n",
       "    <tr>\n",
       "      <th>min</th>\n",
       "      <td>4.300000</td>\n",
       "      <td>2.000000</td>\n",
       "      <td>1.000000</td>\n",
       "      <td>0.100000</td>\n",
       "      <td>NaN</td>\n",
       "    </tr>\n",
       "    <tr>\n",
       "      <th>25%</th>\n",
       "      <td>5.100000</td>\n",
       "      <td>2.800000</td>\n",
       "      <td>1.600000</td>\n",
       "      <td>0.300000</td>\n",
       "      <td>NaN</td>\n",
       "    </tr>\n",
       "    <tr>\n",
       "      <th>50%</th>\n",
       "      <td>5.800000</td>\n",
       "      <td>3.000000</td>\n",
       "      <td>4.350000</td>\n",
       "      <td>1.300000</td>\n",
       "      <td>NaN</td>\n",
       "    </tr>\n",
       "    <tr>\n",
       "      <th>75%</th>\n",
       "      <td>6.400000</td>\n",
       "      <td>3.300000</td>\n",
       "      <td>5.100000</td>\n",
       "      <td>1.800000</td>\n",
       "      <td>NaN</td>\n",
       "    </tr>\n",
       "    <tr>\n",
       "      <th>max</th>\n",
       "      <td>7.900000</td>\n",
       "      <td>4.400000</td>\n",
       "      <td>6.900000</td>\n",
       "      <td>2.500000</td>\n",
       "      <td>NaN</td>\n",
       "    </tr>\n",
       "  </tbody>\n",
       "</table>\n",
       "</div>"
      ],
      "text/plain": [
       "                SL          SW          PL          PW  Classification\n",
       "count   143.000000  144.000000  144.000000  150.000000             150\n",
       "unique         NaN         NaN         NaN         NaN               3\n",
       "top            NaN         NaN         NaN         NaN  Iris-virginica\n",
       "freq           NaN         NaN         NaN         NaN              50\n",
       "mean      5.855944    3.049306    3.756250    1.198667             NaN\n",
       "std       0.828168    0.430644    1.761306    0.763161             NaN\n",
       "min       4.300000    2.000000    1.000000    0.100000             NaN\n",
       "25%       5.100000    2.800000    1.600000    0.300000             NaN\n",
       "50%       5.800000    3.000000    4.350000    1.300000             NaN\n",
       "75%       6.400000    3.300000    5.100000    1.800000             NaN\n",
       "max       7.900000    4.400000    6.900000    2.500000             NaN"
      ]
     },
     "execution_count": 6,
     "metadata": {},
     "output_type": "execute_result"
    }
   ],
   "source": [
    "data.describe(include='all')"
   ]
  },
  {
   "cell_type": "code",
   "execution_count": 7,
   "id": "6f9f376c",
   "metadata": {},
   "outputs": [
    {
     "data": {
      "text/plain": [
       "(150, 5)"
      ]
     },
     "execution_count": 7,
     "metadata": {},
     "output_type": "execute_result"
    }
   ],
   "source": [
    "data.shape"
   ]
  },
  {
   "cell_type": "code",
   "execution_count": 8,
   "id": "4a6ecebb",
   "metadata": {},
   "outputs": [],
   "source": [
    "#plotting each metric to fill missing values"
   ]
  },
  {
   "cell_type": "code",
   "execution_count": 9,
   "id": "62f976aa",
   "metadata": {},
   "outputs": [
    {
     "data": {
      "image/png": "[encoded data removed]",
      "text/plain": [
       "<Figure size 720x360 with 1 Axes>"
      ]
     },
     "metadata": {
      "needs_background": "light"
     },
     "output_type": "display_data"
    }
   ],
   "source": [
    "freqgraph = data.SL\n",
    "freqgraph.hist(figsize=(10,5))\n",
    "plt.show()"
   ]
  },
  {
   "cell_type": "code",
   "execution_count": 10,
   "id": "f0a52bf6",
   "metadata": {},
   "outputs": [
    {
     "data": {
      "image/png": "[encoded data removed]",
      "text/plain": [
       "<Figure size 720x360 with 1 Axes>"
      ]
     },
     "metadata": {
      "needs_background": "light"
     },
     "output_type": "display_data"
    }
   ],
   "source": [
    "freqgraph = data.SW\n",
    "freqgraph.hist(figsize=(10,5))\n",
    "plt.show()"
   ]
  },
  {
   "cell_type": "code",
   "execution_count": 11,
   "id": "cbeb4ba8",
   "metadata": {},
   "outputs": [
    {
     "data": {
      "image/png": "[encoded data removed]",
      "text/plain": [
       "<Figure size 720x360 with 1 Axes>"
      ]
     },
     "metadata": {
      "needs_background": "light"
     },
     "output_type": "display_data"
    }
   ],
   "source": [
    "freqgraph = data.PL\n",
    "freqgraph.hist(figsize=(10,5))\n",
    "plt.show()"
   ]
  },
  {
   "cell_type": "code",
   "execution_count": null,
   "id": "192ae24d",
   "metadata": {},
   "outputs": [],
   "source": []
  },
  {
   "cell_type": "code",
   "execution_count": 12,
   "id": "73be6a46",
   "metadata": {},
   "outputs": [],
   "source": [
    "# we've missing values in SL,SW,PL columns and we are filling it with mean\n",
    "for i in ['SL', 'SW', 'PL']:\n",
    "  data[i] = data[i].fillna(data[i].median())"
   ]
  },
  {
   "cell_type": "code",
   "execution_count": 13,
   "id": "d3d35e19",
   "metadata": {},
   "outputs": [
    {
     "data": {
      "text/plain": [
       "SL                0\n",
       "SW                0\n",
       "PL                0\n",
       "PW                0\n",
       "Classification    0\n",
       "dtype: int64"
      ]
     },
     "execution_count": 13,
     "metadata": {},
     "output_type": "execute_result"
    }
   ],
   "source": [
    "data.isna().sum()"
   ]
  },
  {
   "cell_type": "code",
   "execution_count": 14,
   "id": "7e2cbeb1",
   "metadata": {},
   "outputs": [],
   "source": [
    "# to find outliers we need to plot boxplot"
   ]
  },
  {
   "cell_type": "code",
   "execution_count": 15,
   "id": "a8bdaedf",
   "metadata": {},
   "outputs": [
    {
     "data": {
      "text/plain": [
       "{'whiskers': [<matplotlib.lines.Line2D at 0x1966935b9d0>,\n",
       "  <matplotlib.lines.Line2D at 0x1966935bd30>],\n",
       " 'caps': [<matplotlib.lines.Line2D at 0x196693630d0>,\n",
       "  <matplotlib.lines.Line2D at 0x19669363430>],\n",
       " 'boxes': [<matplotlib.lines.Line2D at 0x1966935b6d0>],\n",
       " 'medians': [<matplotlib.lines.Line2D at 0x19669363790>],\n",
       " 'fliers': [<matplotlib.lines.Line2D at 0x19669363af0>],\n",
       " 'means': []}"
      ]
     },
     "execution_count": 15,
     "metadata": {},
     "output_type": "execute_result"
    },
    {
     "data": {
      "image/png": "[encoded data removed]",
      "text/plain": [
       "<Figure size 432x288 with 1 Axes>"
      ]
     },
     "metadata": {
      "needs_background": "light"
     },
     "output_type": "display_data"
    }
   ],
   "source": [
    "plt.boxplot(data[\"SL\"])"
   ]
  },
  {
   "cell_type": "code",
   "execution_count": 16,
   "id": "cca8d457",
   "metadata": {},
   "outputs": [],
   "source": [
    "#no outliers in SL"
   ]
  },
  {
   "cell_type": "code",
   "execution_count": 17,
   "id": "352ac924",
   "metadata": {},
   "outputs": [
    {
     "data": {
      "text/plain": [
       "{'whiskers': [<matplotlib.lines.Line2D at 0x196693becd0>,\n",
       "  <matplotlib.lines.Line2D at 0x196693cc070>],\n",
       " 'caps': [<matplotlib.lines.Line2D at 0x196693cc3d0>,\n",
       "  <matplotlib.lines.Line2D at 0x196693cc730>],\n",
       " 'boxes': [<matplotlib.lines.Line2D at 0x196693be970>],\n",
       " 'medians': [<matplotlib.lines.Line2D at 0x196693cca90>],\n",
       " 'fliers': [<matplotlib.lines.Line2D at 0x196693ccdf0>],\n",
       " 'means': []}"
      ]
     },
     "execution_count": 17,
     "metadata": {},
     "output_type": "execute_result"
    },
    {
     "data": {
      "image/png": "[encoded data removed]",
      "text/plain": [
       "<Figure size 432x288 with 1 Axes>"
      ]
     },
     "metadata": {
      "needs_background": "light"
     },
     "output_type": "display_data"
    }
   ],
   "source": [
    "plt.boxplot(data[\"SW\"])"
   ]
  },
  {
   "cell_type": "code",
   "execution_count": 18,
   "id": "f250b064",
   "metadata": {},
   "outputs": [],
   "source": [
    "#there're outliers in SW"
   ]
  },
  {
   "cell_type": "code",
   "execution_count": 19,
   "id": "397960c2",
   "metadata": {},
   "outputs": [
    {
     "data": {
      "text/plain": [
       "{'whiskers': [<matplotlib.lines.Line2D at 0x196694274f0>,\n",
       "  <matplotlib.lines.Line2D at 0x19669427850>],\n",
       " 'caps': [<matplotlib.lines.Line2D at 0x19669427bb0>,\n",
       "  <matplotlib.lines.Line2D at 0x19669427f10>],\n",
       " 'boxes': [<matplotlib.lines.Line2D at 0x19669427190>],\n",
       " 'medians': [<matplotlib.lines.Line2D at 0x1966942f2b0>],\n",
       " 'fliers': [<matplotlib.lines.Line2D at 0x1966942f610>],\n",
       " 'means': []}"
      ]
     },
     "execution_count": 19,
     "metadata": {},
     "output_type": "execute_result"
    },
    {
     "data": {
      "image/png": "[encoded data removed]",
      "text/plain": [
       "<Figure size 432x288 with 1 Axes>"
      ]
     },
     "metadata": {
      "needs_background": "light"
     },
     "output_type": "display_data"
    }
   ],
   "source": [
    "plt.boxplot(data[\"PL\"])"
   ]
  },
  {
   "cell_type": "code",
   "execution_count": 20,
   "id": "29670409",
   "metadata": {},
   "outputs": [],
   "source": [
    "#no outliers in PL"
   ]
  },
  {
   "cell_type": "code",
   "execution_count": 21,
   "id": "b63a472c",
   "metadata": {},
   "outputs": [
    {
     "data": {
      "text/plain": [
       "{'whiskers': [<matplotlib.lines.Line2D at 0x196694852e0>,\n",
       "  <matplotlib.lines.Line2D at 0x19669485640>],\n",
       " 'caps': [<matplotlib.lines.Line2D at 0x196694859a0>,\n",
       "  <matplotlib.lines.Line2D at 0x19669485d00>],\n",
       " 'boxes': [<matplotlib.lines.Line2D at 0x19669476f40>],\n",
       " 'medians': [<matplotlib.lines.Line2D at 0x196694910a0>],\n",
       " 'fliers': [<matplotlib.lines.Line2D at 0x19669491400>],\n",
       " 'means': []}"
      ]
     },
     "execution_count": 21,
     "metadata": {},
     "output_type": "execute_result"
    },
    {
     "data": {
      "image/png": "[encoded data removed]",
      "text/plain": [
       "<Figure size 432x288 with 1 Axes>"
      ]
     },
     "metadata": {
      "needs_background": "light"
     },
     "output_type": "display_data"
    }
   ],
   "source": [
    "plt.boxplot(data[\"PW\"])"
   ]
  },
  {
   "cell_type": "code",
   "execution_count": 22,
   "id": "4bb2b84f",
   "metadata": {},
   "outputs": [],
   "source": [
    "#no outliers in PW"
   ]
  },
  {
   "cell_type": "code",
   "execution_count": 23,
   "id": "1981f48b",
   "metadata": {},
   "outputs": [],
   "source": [
    "Q1 = np.percentile(data['SW'], 25, interpolation='midpoint')\n",
    "Q2 = np.percentile(data['SW'], 50, interpolation='midpoint')\n",
    "Q3 = np.percentile(data['SW'], 75, interpolation='midpoint')"
   ]
  },
  {
   "cell_type": "code",
   "execution_count": 24,
   "id": "8508cab9",
   "metadata": {},
   "outputs": [
    {
     "name": "stdout",
     "output_type": "stream",
     "text": [
      "0.4500000000000002\n"
     ]
    }
   ],
   "source": [
    "IQR = Q3 -Q1\n",
    "print(IQR)"
   ]
  },
  {
   "cell_type": "code",
   "execution_count": 25,
   "id": "962ec451",
   "metadata": {},
   "outputs": [],
   "source": [
    "lower_limit = Q1 - 1.5*IQR\n",
    "upper_limit = Q3 + 1.5*IQR"
   ]
  },
  {
   "cell_type": "code",
   "execution_count": 26,
   "id": "48b8f06d",
   "metadata": {},
   "outputs": [
    {
     "name": "stdout",
     "output_type": "stream",
     "text": [
      "2.1249999999999996\n",
      "3.9250000000000003\n"
     ]
    }
   ],
   "source": [
    "print(lower_limit)\n",
    "print(upper_limit)"
   ]
  },
  {
   "cell_type": "code",
   "execution_count": 27,
   "id": "d3b02908",
   "metadata": {},
   "outputs": [
    {
     "name": "stdout",
     "output_type": "stream",
     "text": [
      "outliers: [4.0, 4.4, 4.1, 4.2, 2.0]\n"
     ]
    }
   ],
   "source": [
    "outlier = []\n",
    "for x in data[\"SW\"]:\n",
    "  if ((x > upper_limit) or (x < lower_limit)):\n",
    "    outlier.append(x)\n",
    "\n",
    "print(\"outliers:\" , outlier)"
   ]
  },
  {
   "cell_type": "code",
   "execution_count": 28,
   "id": "729fa8b8",
   "metadata": {},
   "outputs": [
    {
     "data": {
      "text/plain": [
       "Int64Index([14, 15, 32, 33], dtype='int64')"
      ]
     },
     "execution_count": 28,
     "metadata": {},
     "output_type": "execute_result"
    }
   ],
   "source": [
    "ind1 = data['SW']>upper_limit\n",
    "index1 = data.loc[ind1].index\n",
    "index1"
   ]
  },
  {
   "cell_type": "code",
   "execution_count": 29,
   "id": "e661aa34",
   "metadata": {},
   "outputs": [],
   "source": [
    "data.drop(index1, inplace = True)"
   ]
  },
  {
   "cell_type": "code",
   "execution_count": 30,
   "id": "068d3830",
   "metadata": {},
   "outputs": [
    {
     "data": {
      "text/plain": [
       "Int64Index([60], dtype='int64')"
      ]
     },
     "execution_count": 30,
     "metadata": {},
     "output_type": "execute_result"
    }
   ],
   "source": [
    "ind2 = data['SW']<lower_limit\n",
    "index2=data.loc[ind2].index\n",
    "index2"
   ]
  },
  {
   "cell_type": "code",
   "execution_count": 31,
   "id": "8068c8b4",
   "metadata": {},
   "outputs": [],
   "source": [
    "data.drop(index2, inplace = True)"
   ]
  },
  {
   "cell_type": "code",
   "execution_count": 32,
   "id": "0733edb4",
   "metadata": {},
   "outputs": [
    {
     "name": "stdout",
     "output_type": "stream",
     "text": [
      "<class 'pandas.core.frame.DataFrame'>\n",
      "Int64Index: 145 entries, 0 to 149\n",
      "Data columns (total 5 columns):\n",
      " #   Column          Non-Null Count  Dtype  \n",
      "---  ------          --------------  -----  \n",
      " 0   SL              145 non-null    float64\n",
      " 1   SW              145 non-null    float64\n",
      " 2   PL              145 non-null    float64\n",
      " 3   PW              145 non-null    float64\n",
      " 4   Classification  145 non-null    object \n",
      "dtypes: float64(4), object(1)\n",
      "memory usage: 6.8+ KB\n"
     ]
    }
   ],
   "source": [
    "data.info()"
   ]
  },
  {
   "cell_type": "code",
   "execution_count": 33,
   "id": "b9dcc4d0",
   "metadata": {},
   "outputs": [
    {
     "data": {
      "text/plain": [
       "{'whiskers': [<matplotlib.lines.Line2D at 0x196694eee20>,\n",
       "  <matplotlib.lines.Line2D at 0x196694fc1c0>],\n",
       " 'caps': [<matplotlib.lines.Line2D at 0x196694fc520>,\n",
       "  <matplotlib.lines.Line2D at 0x196694fc880>],\n",
       " 'boxes': [<matplotlib.lines.Line2D at 0x196694eeac0>],\n",
       " 'medians': [<matplotlib.lines.Line2D at 0x196694fcbe0>],\n",
       " 'fliers': [<matplotlib.lines.Line2D at 0x196694fcf40>],\n",
       " 'means': []}"
      ]
     },
     "execution_count": 33,
     "metadata": {},
     "output_type": "execute_result"
    },
    {
     "data": {
      "image/png": "[encoded data removed]",
      "text/plain": [
       "<Figure size 432x288 with 1 Axes>"
      ]
     },
     "metadata": {
      "needs_background": "light"
     },
     "output_type": "display_data"
    }
   ],
   "source": [
    "plt.boxplot(data[\"SW\"])"
   ]
  },
  {
   "cell_type": "markdown",
   "id": "758ecc17",
   "metadata": {},
   "source": [
    "# 3. Find out which classification model gives the best result to predict irisspecies.(also do random forest algorithm)\n"
   ]
  },
  {
   "cell_type": "markdown",
   "id": "eee7a2cf",
   "metadata": {},
   "source": [
    "LOGISTIC REGRESSION"
   ]
  },
  {
   "cell_type": "code",
   "execution_count": 34,
   "id": "4e36925f",
   "metadata": {},
   "outputs": [],
   "source": [
    "x = data.drop([\"Classification\"],axis=1)\n",
    "y = data[\"Classification\"]"
   ]
  },
  {
   "cell_type": "code",
   "execution_count": 35,
   "id": "5e196777",
   "metadata": {},
   "outputs": [],
   "source": [
    "from sklearn.model_selection import train_test_split\n",
    "x_train,x_test,y_train,y_test = train_test_split(x,y,random_state=42,test_size=0.2)"
   ]
  },
  {
   "cell_type": "code",
   "execution_count": 36,
   "id": "75a96ab0",
   "metadata": {},
   "outputs": [
    {
     "name": "stderr",
     "output_type": "stream",
     "text": [
      "C:\\Users\\Minnu\\anaconda3\\lib\\site-packages\\sklearn\\linear_model\\_logistic.py:763: ConvergenceWarning: lbfgs failed to converge (status=1):\n",
      "STOP: TOTAL NO. of ITERATIONS REACHED LIMIT.\n",
      "\n",
      "Increase the number of iterations (max_iter) or scale the data as shown in:\n",
      "    https://scikit-learn.org/stable/modules/preprocessing.html\n",
      "Please also refer to the documentation for alternative solver options:\n",
      "    https://scikit-learn.org/stable/modules/linear_model.html#logistic-regression\n",
      "  n_iter_i = _check_optimize_result(\n"
     ]
    },
    {
     "data": {
      "text/plain": [
       "LogisticRegression()"
      ]
     },
     "execution_count": 36,
     "metadata": {},
     "output_type": "execute_result"
    }
   ],
   "source": [
    "from sklearn.linear_model import LogisticRegression\n",
    "logit_model = LogisticRegression()\n",
    "logit_model.fit(x_train,y_train)\n"
   ]
  },
  {
   "cell_type": "code",
   "execution_count": 37,
   "id": "be941e29",
   "metadata": {},
   "outputs": [],
   "source": [
    "y_pred = logit_model.predict(x_test)"
   ]
  },
  {
   "cell_type": "code",
   "execution_count": 38,
   "id": "8e43bf87",
   "metadata": {},
   "outputs": [
    {
     "name": "stdout",
     "output_type": "stream",
     "text": [
      "accuracy_score 0.9310344827586207\n",
      "precision_score 0.9310344827586207\n",
      "f1_score 0.9310344827586207\n"
     ]
    }
   ],
   "source": [
    "from sklearn.metrics import confusion_matrix,accuracy_score,precision_score,recall_score,f1_score\n",
    "print('accuracy_score',accuracy_score(y_test,y_pred))\n",
    "print('precision_score',precision_score(y_test,y_pred,average=\"weighted\"))\n",
    "print('f1_score',f1_score(y_test,y_pred,average=\"weighted\"))"
   ]
  },
  {
   "cell_type": "code",
   "execution_count": 39,
   "id": "68bdcca3",
   "metadata": {},
   "outputs": [
    {
     "data": {
      "text/plain": [
       "array([[ 9,  0,  0],\n",
       "       [ 0,  8,  1],\n",
       "       [ 0,  1, 10]], dtype=int64)"
      ]
     },
     "execution_count": 39,
     "metadata": {},
     "output_type": "execute_result"
    }
   ],
   "source": [
    "confusion_matrix(y_test,y_pred)"
   ]
  },
  {
   "cell_type": "markdown",
   "id": "f3c6b3bc",
   "metadata": {},
   "source": [
    "KNN"
   ]
  },
  {
   "cell_type": "code",
   "execution_count": 40,
   "id": "7b363700",
   "metadata": {},
   "outputs": [],
   "source": [
    "from sklearn.neighbors import KNeighborsClassifier\n",
    "acc_values = []\n",
    "neighbors = np.arange(3,15)\n",
    "for k in neighbors:\n",
    "    classifier = KNeighborsClassifier(n_neighbors= k,metric='minkowski')\n",
    "    classifier.fit(x_train,y_train)\n",
    "    y_pred_knn=classifier.predict(x_test)\n",
    "    acc=accuracy_score(y_test,y_pred_knn)\n",
    "    acc_values.append(acc)\n",
    "    "
   ]
  },
  {
   "cell_type": "code",
   "execution_count": 41,
   "id": "c214566b",
   "metadata": {},
   "outputs": [
    {
     "data": {
      "text/plain": [
       "[0.9310344827586207,\n",
       " 0.9310344827586207,\n",
       " 0.9310344827586207,\n",
       " 0.9310344827586207,\n",
       " 0.9310344827586207,\n",
       " 0.896551724137931,\n",
       " 0.9310344827586207,\n",
       " 0.9310344827586207,\n",
       " 0.9310344827586207,\n",
       " 0.9310344827586207,\n",
       " 0.9310344827586207,\n",
       " 0.8620689655172413]"
      ]
     },
     "execution_count": 41,
     "metadata": {},
     "output_type": "execute_result"
    }
   ],
   "source": [
    "acc_values"
   ]
  },
  {
   "cell_type": "code",
   "execution_count": 42,
   "id": "fc6facf0",
   "metadata": {},
   "outputs": [
    {
     "data": {
      "text/plain": [
       "Text(0, 0.5, 'accuracy')"
      ]
     },
     "execution_count": 42,
     "metadata": {},
     "output_type": "execute_result"
    },
    {
     "data": {
      "image/png": "[encoded data removed]",
      "text/plain": [
       "<Figure size 432x288 with 1 Axes>"
      ]
     },
     "metadata": {
      "needs_background": "light"
     },
     "output_type": "display_data"
    }
   ],
   "source": [
    "#now plot the accuracy values in a graph\n",
    "plt.plot(neighbors,acc_values,'o-')\n",
    "plt.xlabel('k value')\n",
    "plt.ylabel('accuracy')"
   ]
  },
  {
   "cell_type": "code",
   "execution_count": 43,
   "id": "1e85da5f",
   "metadata": {},
   "outputs": [],
   "source": [
    "#from plot we get highest accuracy at k=4"
   ]
  },
  {
   "cell_type": "code",
   "execution_count": 44,
   "id": "8f78f90e",
   "metadata": {},
   "outputs": [],
   "source": [
    "classifier = KNeighborsClassifier(n_neighbors= 4,metric='minkowski')\n",
    "classifier.fit(x_train,y_train)\n",
    "y_pred_knn=classifier.predict(x_test)"
   ]
  },
  {
   "cell_type": "code",
   "execution_count": 45,
   "id": "37758cf2",
   "metadata": {},
   "outputs": [
    {
     "name": "stdout",
     "output_type": "stream",
     "text": [
      "accuracy_score 0.9310344827586207\n",
      "precision_score 0.9310344827586207\n",
      "f1_score 0.9310344827586207\n"
     ]
    }
   ],
   "source": [
    "print('accuracy_score',accuracy_score(y_test,y_pred_knn))\n",
    "print('precision_score',precision_score(y_test,y_pred_knn,average=\"weighted\"))\n",
    "print('f1_score',f1_score(y_test,y_pred_knn,average=\"weighted\"))"
   ]
  },
  {
   "cell_type": "markdown",
   "id": "268972b8",
   "metadata": {},
   "source": [
    "RANDOM FOREST"
   ]
  },
  {
   "cell_type": "code",
   "execution_count": 48,
   "id": "bdac5255",
   "metadata": {},
   "outputs": [
    {
     "name": "stdout",
     "output_type": "stream",
     "text": [
      "accuracy : 0.9310344827586207\n",
      "precision score :  0.9310344827586207\n",
      "f1 score : 0.9310344827586207\n"
     ]
    }
   ],
   "source": [
    "from sklearn.ensemble import RandomForestClassifier\n",
    "rf = RandomForestClassifier()\n",
    "rf.fit(x_train,y_train)\n",
    "y_predicted_rf = rf.predict(x_test)\n",
    "\n",
    "print(\"accuracy :\" , accuracy_score(y_test , y_predicted_rf))\n",
    "print(\"precision score : \" , precision_score(y_test,y_predicted_rf , average=\"weighted\"))\n",
    "print(\"f1 score :\" ,f1_score(y_test ,y_predicted_rf ,average=\"weighted\"))"
   ]
  },
  {
   "cell_type": "markdown",
   "id": "c208cdb9",
   "metadata": {},
   "source": [
    "SVM"
   ]
  },
  {
   "cell_type": "code",
   "execution_count": 51,
   "id": "b9c3d6cf",
   "metadata": {},
   "outputs": [
    {
     "name": "stdout",
     "output_type": "stream",
     "text": [
      "accuracy : 0.896551724137931\n",
      "f1 score : 0.8968109929997409\n",
      "precision score :  0.9\n"
     ]
    }
   ],
   "source": [
    "from sklearn.svm import SVC\n",
    "svm_linear = SVC(kernel =\"linear\")\n",
    "svm_linear.fit(x_train,y_train)\n",
    "y_predict = svm_linear.predict(x_test)\n",
    "\n",
    "print(\"accuracy :\" , accuracy_score(y_test , y_predict))\n",
    "print(\"f1 score :\" ,f1_score(y_test ,y_predict ,average=\"weighted\"))\n",
    "print(\"precision score : \" , precision_score(y_test,y_predict , average=\"weighted\"))"
   ]
  },
  {
   "cell_type": "code",
   "execution_count": null,
   "id": "fc86a35d",
   "metadata": {},
   "outputs": [],
   "source": []
  }
 ],
 "metadata": {
  "kernelspec": {
   "display_name": "Python 3",
   "language": "python",
   "name": "python3"
  },
  "language_info": {
   "codemirror_mode": {
    "name": "ipython",
    "version": 3
   },
   "file_extension": ".py",
   "mimetype": "text/x-python",
   "name": "python",
   "nbconvert_exporter": "python",
   "pygments_lexer": "ipython3",
   "version": "3.8.8"
  }
 },
 "nbformat": 4,
 "nbformat_minor": 5
}
